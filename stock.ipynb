{
 "cells": [
  {
   "cell_type": "markdown",
   "id": "8dc72a18",
   "metadata": {},
   "source": [
    "## We are Creating a Stock AMmrket Close_Price Predictor \n"
   ]
  },
  {
   "cell_type": "code",
   "execution_count": 20,
   "id": "ff32fa42",
   "metadata": {},
   "outputs": [
    {
     "name": "stdout",
     "output_type": "stream",
     "text": [
      "  symbol        date      open      high       low     close    volume  \\\n",
      "0    AAL  2014-01-02   25.0700   25.8200   25.0600   25.3600   8998943   \n",
      "1   AAPL  2014-01-02   79.3828   79.5756   78.8601   79.0185  58791957   \n",
      "2    AAP  2014-01-02  110.3600  111.8800  109.2900  109.7400    542711   \n",
      "3   ABBV  2014-01-02   52.1200   52.3300   51.5200   51.9800   4569061   \n",
      "4    ABC  2014-01-02   70.1100   70.2300   69.4800   69.8900   1148391   \n",
      "\n",
      "                            filename  \n",
      "0  SP 500 Stock Prices 2014-2017.csv  \n",
      "1  SP 500 Stock Prices 2014-2017.csv  \n",
      "2  SP 500 Stock Prices 2014-2017.csv  \n",
      "3  SP 500 Stock Prices 2014-2017.csv  \n",
      "4  SP 500 Stock Prices 2014-2017.csv  \n"
     ]
    }
   ],
   "source": [
    "import os\n",
    "import pandas as pd\n",
    "\n",
    "# Klasör yolu\n",
    "folder_path = \"/Users/omerfarukteker/Desktop/my_test/Stock_Prediction/\"\n",
    "\n",
    "# CSV dosyalarını bul\n",
    "csv_files = [f for f in os.listdir(folder_path) if f.endswith('.csv')]\n",
    "\n",
    "# Boş bir liste oluştur\n",
    "dataframes = []\n",
    "\n",
    "# Her CSV dosyasını oku ve listeye ekle\n",
    "for file in csv_files:\n",
    "    file_path = os.path.join(folder_path, file)\n",
    "    df = pd.read_csv(file_path)\n",
    "    \n",
    "    # Hangi dosyadan geldiğini belirtmek için opsiyonel olarak bir sütun ekleyebilirsin\n",
    "    df['filename'] = file\n",
    "    \n",
    "    dataframes.append(df)\n",
    "\n",
    "# Tüm DataFrame'leri birleştir\n",
    "df_full = pd.concat(dataframes, ignore_index=True)\n",
    "\n",
    "# İlk birkaç satırı göster\n",
    "print(df_full.head())\n"
   ]
  },
  {
   "cell_type": "markdown",
   "id": "9a8b341a",
   "metadata": {},
   "source": [
    "\n",
    "1.Tarihi 'Datetime' Türüne Çevirme \n"
   ]
  },
  {
   "cell_type": "markdown",
   "id": "b03e9e25",
   "metadata": {},
   "source": [
    "2.Gereksiz Verileri Ölçekleme(örneğin sembol veya tarih dışındaki tüm sayısal sütunları)"
   ]
  },
  {
   "cell_type": "markdown",
   "id": "8ae753d6",
   "metadata": {},
   "source": [
    "3.Ölçeklenmiş veriyi sana görsel olarak göstermek"
   ]
  },
  {
   "cell_type": "markdown",
   "id": "a378d617",
   "metadata": {},
   "source": [
    "## With Sample's ##"
   ]
  },
  {
   "cell_type": "code",
   "execution_count": 32,
   "id": "f9445e3d",
   "metadata": {},
   "outputs": [
    {
     "name": "stdout",
     "output_type": "stream",
     "text": [
      "     symbol       date      open      high       low     close    volume  \\\n",
      "6252    MSI 2014-02-21  0.239877  0.246121  0.234518  0.231006  0.036021   \n",
      "4684    IFF 2017-07-12  0.671710  0.665098  0.676308  0.680795  0.213816   \n",
      "1731    CBS 2014-09-08  0.764553  0.749782  0.768977  0.779930  0.273458   \n",
      "4742   INFO 2016-02-24  0.196827  0.192153  0.209491  0.216216  0.087893   \n",
      "4521    HRL 2017-05-05  0.555773  0.539991  0.551882  0.535877  0.053035   \n",
      "...     ...        ...       ...       ...       ...       ...       ...   \n",
      "3787   FOXA 2017-02-03  0.661959  0.641457  0.659804  0.640805  0.035409   \n",
      "9189    UTX 2014-01-09  0.752588  0.738890  0.737490  0.734975  0.000000   \n",
      "7825    RMD 2016-11-03  0.223003  0.221874  0.226235  0.214536  0.127550   \n",
      "7539     PX 2014-09-24  0.775538  0.776240  0.776975  0.789091  0.378813   \n",
      "7231    PHM 2016-01-15  0.000000  0.000000  0.000000  0.000000  0.917536   \n",
      "\n",
      "      close_tomorrow  \n",
      "6252        0.258074  \n",
      "4684        0.860535  \n",
      "1731        0.567782  \n",
      "4742        0.533566  \n",
      "4521        0.325654  \n",
      "...              ...  \n",
      "3787        0.262452  \n",
      "9189        0.710882  \n",
      "7825        0.359603  \n",
      "7539        0.614026  \n",
      "7231        0.032948  \n",
      "\n",
      "[100 rows x 8 columns]\n"
     ]
    }
   ],
   "source": [
    "from sklearn.preprocessing import MinMaxScaler\n",
    "import pandas as pd\n",
    "\n",
    "# 0) Tüm df_full'den rastgele 10.000 satır al\n",
    "df_sample = df_full.sample(n=10000, random_state=42).copy()\n",
    "\n",
    "# 1) Tarih formatını dönüştür ve sırala\n",
    "df_sample['date'] = pd.to_datetime(df_sample['date'])\n",
    "df_sample = df_sample.sort_values(by=['symbol', 'date']).reset_index(drop=True)\n",
    "\n",
    "# Eğer filename varsa atalım\n",
    "if 'filename' in df_sample.columns:\n",
    "    df_sample = df_sample.drop(columns=['filename'])\n",
    "\n",
    "# Ölçeklenecek sütunlar\n",
    "features_to_scale = ['open', 'high', 'low', 'close', 'volume']\n",
    "\n",
    "# Benzersiz sembolleri alfabetik sırada al\n",
    "symbols_clean = sorted(df_sample['symbol'].unique())\n",
    "\n",
    "# Tüm semboller için doğru şekilde ölçekleme yapalım\n",
    "scaled_frames = []\n",
    "scaler = MinMaxScaler()\n",
    "\n",
    "for symbol in symbols_clean:\n",
    "    temp = df_sample[df_sample['symbol'] == symbol].copy()\n",
    "    temp[features_to_scale] = scaler.fit_transform(temp[features_to_scale])\n",
    "    scaled_frames.append(temp)\n",
    "\n",
    "# Birleştir ve tekrar sırala\n",
    "df_scaled = (\n",
    "    pd.concat(scaled_frames)\n",
    "      .sort_values(by=['symbol', 'date'])\n",
    "      .reset_index(drop=True)\n",
    ")\n",
    "\n",
    "# 'close_tomorrow' hedef sütununu ekle\n",
    "df_scaled['close_tomorrow'] = (\n",
    "    df_scaled.groupby('symbol')['close'].shift(-1)\n",
    ")\n",
    "\n",
    "# Sonuç: Rastgele 100 satır göster\n",
    "print(df_scaled.sample(n=100, random_state=42))\n"
   ]
  },
  {
   "cell_type": "markdown",
   "id": "19503212",
   "metadata": {},
   "source": []
  },
  {
   "cell_type": "markdown",
   "id": "89647672",
   "metadata": {},
   "source": [
    "## Demo İçin AAPL kıllanımı \n",
    "\n"
   ]
  },
  {
   "cell_type": "code",
   "execution_count": 36,
   "id": "3b3ee6ec",
   "metadata": {},
   "outputs": [
    {
     "name": "stdout",
     "output_type": "stream",
     "text": [
      "  symbol       date      open      high       low     close    volume  \\\n",
      "0   AAPL 2014-04-25  0.056448  0.066421  0.063910  0.069159  1.000000   \n",
      "1   AAPL 2014-05-19  0.112693  0.125088  0.120166  0.123570  0.780323   \n",
      "2   AAPL 2014-06-03  0.164362  0.177233  0.172292  0.178482  0.705108   \n",
      "3   AAPL 2014-06-11  0.215764  0.218039  0.216192  0.210946  0.371281   \n",
      "4   AAPL 2014-07-10  0.211392  0.227220  0.216782  0.224653  0.298634   \n",
      "5   AAPL 2014-07-24  0.250090  0.247788  0.251004  0.247926  0.371860   \n",
      "6   AAPL 2014-08-27  0.297177  0.308797  0.301511  0.307420  0.452318   \n",
      "7   AAPL 2014-10-02  0.276499  0.281488  0.270121  0.281406  0.396445   \n",
      "8   AAPL 2014-10-16  0.232543  0.252437  0.239085  0.238943  0.692057   \n",
      "9   AAPL 2014-11-14  0.440506  0.443830  0.447251  0.447989  0.351682   \n",
      "\n",
      "   close_tomorrow  close_lag_1  close_lag_2  rolling_mean_3  rolling_std_3  \\\n",
      "0        0.123570     0.009415     0.000000        0.026191       0.037508   \n",
      "1        0.178482     0.069159     0.009415        0.067381       0.057098   \n",
      "2        0.210946     0.123570     0.069159        0.123737       0.054662   \n",
      "3        0.224653     0.178482     0.123570        0.170999       0.044166   \n",
      "4        0.247926     0.210946     0.178482        0.204694       0.023712   \n",
      "5        0.307420     0.224653     0.210946        0.227841       0.018695   \n",
      "6        0.281406     0.247926     0.224653        0.259999       0.042684   \n",
      "7        0.238943     0.307420     0.247926        0.278917       0.029825   \n",
      "8        0.447989     0.281406     0.307420        0.275923       0.034566   \n",
      "9        0.468403     0.238943     0.281406        0.322779       0.110494   \n",
      "\n",
      "   day_of_week  month  \n",
      "0            4      4  \n",
      "1            0      5  \n",
      "2            1      6  \n",
      "3            2      6  \n",
      "4            3      7  \n",
      "5            3      7  \n",
      "6            2      8  \n",
      "7            3     10  \n",
      "8            3     10  \n",
      "9            4     11  \n"
     ]
    }
   ],
   "source": [
    "import pandas as pd\n",
    "\n",
    "# 1) Öncül: Ölçeklenmiş CSV'yi yükleyelim\n",
    "df = df_scaled.copy()\n",
    "df = df.sort_values([\"symbol\",\"date\"]).reset_index(drop=True)\n",
    "\n",
    "# 2) Demo için tek bir sembol seçelim\n",
    "symbol = \"AAPL\"\n",
    "df_sym = df[df[\"symbol\"] == symbol].copy()\n",
    "\n",
    "# 3) Lag özellikleri\n",
    "df_sym[\"close_lag_1\"] = df_sym[\"close\"].shift(1)\n",
    "df_sym[\"close_lag_2\"] = df_sym[\"close\"].shift(2)\n",
    "\n",
    "# 4) Rolling özellikleri\n",
    "df_sym[\"rolling_mean_3\"] = df_sym[\"close\"].rolling(window=3).mean()\n",
    "df_sym[\"rolling_std_3\"]  = df_sym[\"close\"].rolling(window=3).std()\n",
    "\n",
    "# 5) Zaman özellikleri\n",
    "df_sym[\"day_of_week\"] = df_sym[\"date\"].dt.dayofweek\n",
    "df_sym[\"month\"]       = df_sym[\"date\"].dt.month\n",
    "\n",
    "# 6) Hedef: Bir sonraki gün kapanışı\n",
    "df_sym[\"close_tomorrow\"] = df_sym[\"close\"].shift(-1)\n",
    "\n",
    "# 7) NaN içeren ilk birkaç satırı atalım\n",
    "df_sym = df_sym.dropna().reset_index(drop=True)\n",
    "\n",
    "# Sonucu inceleyelim\n",
    "print(df_sym.head(10))\n"
   ]
  },
  {
   "cell_type": "markdown",
   "id": "e82cd82c",
   "metadata": {},
   "source": [
    "# 4)Fearture Engineering"
   ]
  },
  {
   "cell_type": "code",
   "execution_count": 37,
   "id": "9f2afab2",
   "metadata": {},
   "outputs": [],
   "source": [
    "# 4) Feature engineering fonksiyonu\n",
    "def featurize(df_sym):\n",
    "    df_sym = df_sym.sort_values(\"date\").reset_index(drop=True)\n",
    "    df_sym[\"close_lag_1\"] = df_sym[\"close\"].shift(1)\n",
    "    df_sym[\"close_lag_2\"] = df_sym[\"close\"].shift(2)\n",
    "    df_sym[\"rolling_mean_3\"] = df_sym[\"close\"].rolling(3).mean()\n",
    "    df_sym[\"rolling_std_3\"] = df_sym[\"close\"].rolling(3).std()\n",
    "    df_sym[\"day_of_week\"] = df_sym[\"date\"].dt.dayofweek\n",
    "    df_sym[\"month\"] = df_sym[\"date\"].dt.month\n",
    "    df_sym[\"close_tomorrow\"] = df_sym[\"close\"].shift(-1)\n",
    "    return df_sym.dropna()"
   ]
  },
  {
   "cell_type": "code",
   "execution_count": 38,
   "id": "bb35abd7",
   "metadata": {},
   "outputs": [],
   "source": [
    "# 5) Tüm sembollere uygula\n",
    "chunks = []\n",
    "for symbol in sorted(df_scaled[\"symbol\"].unique()):\n",
    "    df_sym = df_scaled[df_scaled[\"symbol\"] == symbol].copy()\n",
    "    df_feat = featurize(df_sym)\n",
    "    chunks.append(df_feat)\n",
    "\n",
    "df_final = pd.concat(chunks).reset_index(drop=True)"
   ]
  },
  {
   "cell_type": "code",
   "execution_count": 39,
   "id": "8b22e6c8",
   "metadata": {},
   "outputs": [
    {
     "name": "stdout",
     "output_type": "stream",
     "text": [
      "Tüm Semboller için Özellik Eklenmiş Veri (10k sample) — Rastgele 10 Satır:\n",
      "     symbol       date      open      high       low     close    volume  \\\n",
      "2712    EOG 2014-07-30  1.000000  1.000000  1.000000  1.000000  0.000000   \n",
      "1311    BWA 2016-07-14  0.000000  0.000000  0.000000  0.000000  0.370997   \n",
      "3692    HII 2014-11-26  0.048235  0.043487  0.045265  0.043811  0.000000   \n",
      "5476    NEE 2016-08-17  0.538052  0.551862  0.528330  0.551007  0.296841   \n",
      "4245    JEC 2017-08-10  0.576994  0.578665  0.547311  0.532202  0.493867   \n",
      "1046    BAC 2015-03-17  0.209076  0.196895  0.204731  0.207091  0.138349   \n",
      "1736    CLX 2016-08-29  0.845377  0.860598  0.877656  0.888934  0.035907   \n",
      "3234    FRT 2017-04-05  0.303355  0.295482  0.313546  0.308072  0.281703   \n",
      "7332    TDG 2015-07-15  0.562419  0.554076  0.539558  0.524497  0.360058   \n",
      "6056    PFE 2017-08-14  0.834416  0.818255  0.831595  0.823151  0.128468   \n",
      "\n",
      "      close_tomorrow  close_lag_1  close_lag_2  rolling_mean_3  rolling_std_3  \\\n",
      "2712        0.557080     0.464602     0.418916        0.627839       0.323109   \n",
      "1311        0.048751     0.071046     0.355529        0.142192       0.188140   \n",
      "3692        0.008722     0.037102     0.000000        0.026971       0.023597   \n",
      "5476        0.522902     0.571680     0.487637        0.536774       0.043792   \n",
      "4245        0.749654     0.590720     0.604917        0.575946       0.038543   \n",
      "1046        0.274778     0.270749     0.201450        0.226430       0.038485   \n",
      "1736        0.752113     0.846680     0.789135        0.841583       0.050094   \n",
      "3234        0.180975     0.313598     0.439905        0.353858       0.074570   \n",
      "7332        0.390789     0.402815     0.480046        0.469119       0.061572   \n",
      "6056        0.765273     0.808682     0.525723        0.719185       0.167699   \n",
      "\n",
      "      day_of_week  month  \n",
      "2712            2      7  \n",
      "1311            3      7  \n",
      "3692            2     11  \n",
      "5476            2      8  \n",
      "4245            3      8  \n",
      "1046            1      3  \n",
      "1736            0      8  \n",
      "3234            2      4  \n",
      "7332            2      7  \n",
      "6056            0      8  \n",
      "Örnek veri boyutu: (8495, 14)\n"
     ]
    }
   ],
   "source": [
    "# 6) Sonuç: random 10 satır ve boyut bilgisi\n",
    "print(\"Tüm Semboller için Özellik Eklenmiş Veri (10k sample) — Rastgele 10 Satır:\")\n",
    "print(df_final.sample(10))\n",
    "\n",
    "print(f\"Örnek veri boyutu: {df_final.shape}\")\n"
   ]
  },
  {
   "cell_type": "markdown",
   "id": "7f347be6",
   "metadata": {},
   "source": [
    "## Differnetiating Test and Train"
   ]
  },
  {
   "cell_type": "code",
   "execution_count": 40,
   "id": "eeb8e62a",
   "metadata": {},
   "outputs": [
    {
     "name": "stdout",
     "output_type": "stream",
     "text": [
      "Random Train/Test Split:\n",
      "     Set  Rows\n",
      "0  Train  6796\n",
      "1   Test  1699\n"
     ]
    }
   ],
   "source": [
    "from sklearn.model_selection import train_test_split\n",
    "# Random 80/20 split\n",
    "train_df, test_df = train_test_split(df_final, test_size=0.2, random_state=42)\n",
    "\n",
    "# Display result sizes\n",
    "split_summary = pd.DataFrame({\n",
    "    'Set': ['Train', 'Test'],\n",
    "    'Rows': [len(train_df), len(test_df)]\n",
    "})\n",
    "print(\"Random Train/Test Split:\")\n",
    "print(split_summary)\n"
   ]
  },
  {
   "attachments": {
    "image.png": {
     "image/png": "[encoded data removed]"
    }
   },
   "cell_type": "markdown",
   "id": "f0e5c61c",
   "metadata": {},
   "source": [
    "![image.png](attachment:image.png)"
   ]
  },
  {
   "cell_type": "markdown",
   "id": "c92e6624",
   "metadata": {},
   "source": [
    "1. Linear Regression ile benchmark"
   ]
  },
  {
   "cell_type": "code",
   "execution_count": 43,
   "id": "7620f030",
   "metadata": {},
   "outputs": [
    {
     "name": "stdout",
     "output_type": "stream",
     "text": [
      "Linear Regression MAE:  0.126236\n",
      "Linear Regression RMSE: 0.171866\n"
     ]
    }
   ],
   "source": [
    "from sklearn.linear_model import LinearRegression\n",
    "from sklearn.metrics import mean_absolute_error, mean_squared_error\n",
    "import numpy as np\n",
    "\n",
    "# Define feature columns (excluding target and non-feature columns)\n",
    "feature_cols = ['open', 'high', 'low', 'close', 'volume', 'close_lag_1', 'close_lag_2', \n",
    "\t\t\t\t'rolling_mean_3', 'rolling_std_3', 'day_of_week', 'month']\n",
    "\n",
    "X_train = train_df[feature_cols]\n",
    "y_train = train_df[\"close_tomorrow\"]\n",
    "X_test  = test_df[feature_cols]\n",
    "y_test  = test_df[\"close_tomorrow\"]\n",
    "\n",
    "# 4) Modeli eğit\n",
    "lr = LinearRegression()\n",
    "lr.fit(X_train, y_train)\n",
    "\n",
    "# 5) Tahmin ve metrikler\n",
    "y_pred = lr.predict(X_test)\n",
    "mae  = mean_absolute_error(y_test, y_pred)\n",
    "rmse = np.sqrt(mean_squared_error(y_test, y_pred))\n",
    "\n",
    "print(f\"Linear Regression MAE:  {mae:.6f}\")\n",
    "print(f\"Linear Regression RMSE: {rmse:.6f}\")"
   ]
  },
  {
   "cell_type": "code",
   "execution_count": 45,
   "id": "efefa6de",
   "metadata": {},
   "outputs": [
    {
     "name": "stdout",
     "output_type": "stream",
     "text": [
      "Yeni sütunlarla boyut: (478, 29)\n",
      "     symbol       date      open      high       low     close    volume  \\\n",
      "1435     CB 2017-02-22  0.783839  0.820449  0.791200  0.836859  0.193643   \n",
      "2991   FBHS 2015-03-31  0.348246  0.357220  0.347274  0.358279  0.418078   \n",
      "5056    MHK 2016-03-11  0.367366  0.379969  0.363216  0.379675  0.205735   \n",
      "6948    SNA 2016-05-12  0.910091  0.901642  0.882618  0.902331  0.534278   \n",
      "2319    DIS 2016-07-12  0.632289  0.633273  0.637718  0.623167  0.580713   \n",
      "2029    CRM 2017-09-28  0.948353  0.934752  0.944429  0.922903  0.153924   \n",
      "3379   GOOG 2015-01-08  0.000000  0.000000  0.000000  0.000000  0.882199   \n",
      "5920   PBCT 2015-02-26  0.150538  0.161496  0.190432  0.170412  0.139319   \n",
      "3824    HRL 2016-07-14  0.627691  0.621865  0.637261  0.629950  0.603971   \n",
      "4703    LNT 2017-05-23  0.809704  0.863031  0.843227  0.850240  0.840046   \n",
      "\n",
      "      close_tomorrow  close_lag_1  close_lag_2  rolling_mean_3  rolling_std_3  \\\n",
      "1435        0.845445     0.706178     0.622199        0.721745       0.108173   \n",
      "2991        0.412509     0.282357     0.263196        0.301277       0.050286   \n",
      "5056        0.365057     0.234585     0.415831        0.343364       0.095924   \n",
      "6948        0.805193     0.735959     0.722360        0.786883       0.100212   \n",
      "2319        0.965396     0.853079     0.821408        0.765885       0.124607   \n",
      "2029        1.000000     0.694551     0.498304        0.705253       0.212502   \n",
      "3379        0.063207     0.054183     0.051742        0.035308       0.030602   \n",
      "5920        0.174157     0.161049     0.076779        0.136080       0.051569   \n",
      "3824        0.507079     0.931845     1.000000        0.853932       0.196945   \n",
      "4703        0.820800     0.656960     0.655040        0.720747       0.112149   \n",
      "\n",
      "      day_of_week  month  \n",
      "1435            2      2  \n",
      "2991            1      3  \n",
      "5056            4      3  \n",
      "6948            3      5  \n",
      "2319            1      7  \n",
      "2029            3      9  \n",
      "3379            3      1  \n",
      "5920            3      2  \n",
      "3824            3      7  \n",
      "4703            1      5  \n"
     ]
    }
   ],
   "source": [
    "# Adım 1: Çıktıya ek özellikleri tanımla\n",
    "def add_advanced_features(df):\n",
    "    df = df.sort_values(\"date\").reset_index(drop=True)\n",
    "\n",
    "    # 1) Fiyat farkları\n",
    "    df[\"price_diff_1\"] = df[\"close\"] - df[\"close_lag_1\"]\n",
    "    df[\"price_diff_2\"] = df[\"close\"] - df[\"close_lag_2\"]\n",
    "\n",
    "    # 2) Daha uzun rolling pencereleri\n",
    "    df[\"rolling_mean_5\"] = df[\"close\"].rolling(5).mean()\n",
    "    df[\"rolling_std_5\"]  = df[\"close\"].rolling(5).std()\n",
    "    df[\"momentum_5\"]     = df[\"close\"] - df[\"rolling_mean_5\"]\n",
    "\n",
    "    # 3) Bollinger bantları (20-günlük)\n",
    "    df[\"rolling_mean_20\"] = df[\"close\"].rolling(20).mean()\n",
    "    df[\"rolling_std_20\"]  = df[\"close\"].rolling(20).std()\n",
    "    df[\"bollinger_upper\"] = df[\"rolling_mean_20\"] + 2 * df[\"rolling_std_20\"]\n",
    "    df[\"bollinger_lower\"] = df[\"rolling_mean_20\"] - 2 * df[\"rolling_std_20\"]\n",
    "\n",
    "    # 4) Hacim tabanlı özellikler\n",
    "    df[\"volume_lag_1\"]      = df[\"volume\"].shift(1)\n",
    "    df[\"volume_change\"]     = df[\"volume\"] / df[\"volume_lag_1\"]\n",
    "    df[\"volume_roll_mean_5\"]= df[\"volume\"].rolling(5).mean()\n",
    "\n",
    "    # 5) Zamanın cyclic encoding’i\n",
    "    df[\"dow_sin\"] = np.sin(2 * np.pi * df[\"day_of_week\"] / 7)\n",
    "    df[\"dow_cos\"] = np.cos(2 * np.pi * df[\"day_of_week\"] / 7)\n",
    "\n",
    "    # 6) Polinomik etkileşim terimi\n",
    "    df[\"lag1_x_rm5\"] = df[\"close_lag_1\"] * df[\"rolling_mean_5\"]\n",
    "\n",
    "    # Son: NaN’leri temizle\n",
    "    return df.dropna().reset_index(drop=True)\n",
    "\n",
    "# Adım 2: Sembol bazında uygula\n",
    "frames = []\n",
    "for sym, grp in df_final.groupby(\"symbol\"):\n",
    "    frames.append(add_advanced_features(grp))\n",
    "\n",
    "df_enhanced = pd.concat(frames).reset_index(drop=True)\n",
    "\n",
    "# Adım 3: Genişletilmiş tabloyu incele\n",
    "print(\"Yeni sütunlarla boyut:\", df_enhanced.shape)\n",
    "print(df_final.sample(10))"
   ]
  },
  {
   "cell_type": "code",
   "execution_count": 50,
   "id": "1aef4a98",
   "metadata": {},
   "outputs": [
    {
     "name": "stdout",
     "output_type": "stream",
     "text": [
      "Enhanced Linear Regression MAE:  0.093256\n",
      "Enhanced Linear Regression RMSE: 0.127349\n"
     ]
    }
   ],
   "source": [
    "# 1) Train/test split for enhanced dataset\n",
    "train_df_enh, test_df_enh = train_test_split(df_enhanced, test_size=0.2, random_state=42)\n",
    "\n",
    "# 2) Define enhanced feature columns\n",
    "feature_cols_enhanced = ['open', 'high', 'low', 'close', 'volume', 'close_lag_1', 'close_lag_2', \n",
    "\t\t\t\t\t\t'rolling_mean_3', 'rolling_std_3', 'day_of_week', 'month',\n",
    "\t\t\t\t\t\t'price_diff_1', 'price_diff_2', 'rolling_mean_5', 'rolling_std_5', \n",
    "\t\t\t\t\t\t'momentum_5', 'bollinger_upper', 'bollinger_lower', 'volume_lag_1', \n",
    "\t\t\t\t\t\t'volume_change', 'volume_roll_mean_5', 'dow_sin', 'dow_cos', 'lag1_x_rm5']\n",
    "\n",
    "# 3) Prepare data and handle infinity values\n",
    "X_train_enh = train_df_enh[feature_cols_enhanced].replace([np.inf, -np.inf], np.nan).fillna(0)\n",
    "y_train_enh = train_df_enh[\"close_tomorrow\"]\n",
    "X_test_enh = test_df_enh[feature_cols_enhanced].replace([np.inf, -np.inf], np.nan).fillna(0)\n",
    "y_test_enh = test_df_enh[\"close_tomorrow\"]\n",
    "\n",
    "# 4) Train the model\n",
    "lr_enhanced = LinearRegression()\n",
    "lr_enhanced.fit(X_train_enh, y_train_enh)\n",
    "\n",
    "# 5) Make predictions and calculate metrics\n",
    "y_pred_enh = lr_enhanced.predict(X_test_enh)\n",
    "mae_enh = mean_absolute_error(y_test_enh, y_pred_enh)\n",
    "rmse_enh = np.sqrt(mean_squared_error(y_test_enh, y_pred_enh))\n",
    "\n",
    "print(f\"Enhanced Linear Regression MAE:  {mae_enh:.6f}\")\n",
    "print(f\"Enhanced Linear Regression RMSE: {rmse_enh:.6f}\")"
   ]
  },
  {
   "cell_type": "markdown",
   "id": "13cca2c2",
   "metadata": {},
   "source": [
    "2. Random Forest Regressor\n"
   ]
  },
  {
   "cell_type": "code",
   "execution_count": 56,
   "id": "83ba220a",
   "metadata": {},
   "outputs": [],
   "source": [
    "from sklearn.ensemble import RandomForestRegressor\n",
    "\n",
    "# Use existing df_enhanced instead of creating new one\n",
    "# df_enhanced is already created in previous cells with advanced features\n",
    "\n",
    "# Clean any infinity values in df_enhanced\n",
    "df_enhanced_clean = df_enhanced.replace([np.inf, -np.inf], np.nan).fillna(0)\n",
    "\n",
    "# 5) Train/Test Split\n",
    "feature_cols = [\n",
    "    \"open\",\"high\",\"low\",\"close\",\"volume\",\n",
    "    \"close_lag_1\",\"close_lag_2\",\"rolling_mean_3\",\"rolling_std_3\",\n",
    "    \"price_diff_1\",\"price_diff_2\",\"rolling_mean_5\",\"rolling_std_5\",\"momentum_5\",\n",
    "    \"rolling_mean_20\",\"rolling_std_20\",\"bollinger_upper\",\"bollinger_lower\",\n",
    "    \"volume_lag_1\",\"volume_change\",\"volume_roll_mean_5\",\n",
    "    \"dow_sin\",\"dow_cos\",\"lag1_x_rm5\",\n",
    "    \"day_of_week\",\"month\"\n",
    "]\n",
    "X = df_enhanced[feature_cols]\n",
    "y = df_enhanced[\"close_tomorrow\"]\n",
    "X_train, X_test, y_train, y_test = train_test_split(X, y, test_size=0.2, random_state=42)\n",
    "\n",
    "# 6) Random Forest Modeli\n",
    "# 5) Train/Test Split\n",
    "feature_cols = [\n",
    "    \"open\",\"high\",\"low\",\"close\",\"volume\",\n",
    "    \"close_lag_1\",\"close_lag_2\",\"rolling_mean_3\",\"rolling_std_3\",\n",
    "    \"price_diff_1\",\"price_diff_2\",\"rolling_mean_5\",\"rolling_std_5\",\"momentum_5\",\n",
    "    \"rolling_mean_20\",\"rolling_std_20\",\"bollinger_upper\",\"bollinger_lower\",\n",
    "    \"volume_lag_1\",\"volume_change\",\"volume_roll_mean_5\",\n",
    "    \"dow_sin\",\"dow_cos\",\"lag1_x_rm5\",\n",
    "    \"day_of_week\",\"month\"\n",
    "]\n",
    "X = df_enhanced_clean[feature_cols]\n",
    "y = df_enhanced_clean[\"close_tomorrow\"]\n",
    "X_train, X_test, y_train, y_test = train_test_split(X, y, test_size=0.2, random_state=42)\n"
   ]
  },
  {
   "cell_type": "code",
   "execution_count": 57,
   "id": "0c8b7b25",
   "metadata": {},
   "outputs": [
    {
     "name": "stdout",
     "output_type": "stream",
     "text": [
      "Random Forest MAE:  0.094698\n",
      "Random Forest RMSE: 0.124996\n"
     ]
    }
   ],
   "source": [
    "# 6) Random Forest Modeli\n",
    "rf = RandomForestRegressor(n_estimators=100, max_depth=8, random_state=42)\n",
    "rf.fit(X_train, y_train)\n",
    "\n",
    "# 7) Değerlendirme\n",
    "y_pred = rf.predict(X_test)\n",
    "mae  = mean_absolute_error(y_test, y_pred)\n",
    "rmse = np.sqrt(mean_squared_error(y_test, y_pred))\n",
    "\n",
    "print(f\"Random Forest MAE:  {mae:.6f}\")\n",
    "print(f\"Random Forest RMSE: {rmse:.6f}\")"
   ]
  },
  {
   "cell_type": "markdown",
   "id": "0d18331c",
   "metadata": {},
   "source": [
    "3. Step GradientBoostingRegressor’"
   ]
  },
  {
   "cell_type": "code",
   "execution_count": 79,
   "id": "656c3bb6",
   "metadata": {},
   "outputs": [
    {
     "name": "stdout",
     "output_type": "stream",
     "text": [
      "{'learning_rate': 0.01, 'max_depth': 3, 'n_estimators': 300}\n"
     ]
    }
   ],
   "source": [
    "from sklearn.model_selection import GridSearchCV\n",
    "param_grid = {\n",
    "  \"n_estimators\": [100, 300, 500],\n",
    "  \"learning_rate\": [0.01, 0.05, 0.1],\n",
    "  \"max_depth\": [3, 5, 7]\n",
    "}\n",
    "gscv = GridSearchCV(GradientBoostingRegressor(random_state=42),\n",
    "                    param_grid, scoring=\"neg_mean_absolute_error\", cv=3)\n",
    "gscv.fit(X_train, y_train)\n",
    "print(gscv.best_params_)\n"
   ]
  },
  {
   "cell_type": "code",
   "execution_count": 80,
   "id": "cfcac9e3",
   "metadata": {},
   "outputs": [
    {
     "name": "stdout",
     "output_type": "stream",
     "text": [
      "Gradient Boosting MAE:  0.095429\n",
      "Gradient Boosting RMSE: 0.122203\n"
     ]
    }
   ],
   "source": [
    "\n",
    "\n",
    "# 3) Modeli tanımla ve eğit\n",
    "gbr = GradientBoostingRegressor(\n",
    "    n_estimators=300,\n",
    "    learning_rate=0.01,\n",
    "    max_depth=3,\n",
    "    random_state=42\n",
    ")\n",
    "gbr.fit(X_train, y_train)\n",
    "\n",
    "# 4) Tahmin ve metrikler\n",
    "y_pred = gbr.predict(X_test)\n",
    "mae  = mean_absolute_error(y_test, y_pred)\n",
    "rmse = np.sqrt(mean_squared_error(y_test, y_pred))\n",
    "\n",
    "print(f\"Gradient Boosting MAE:  {mae:.6f}\")\n",
    "print(f\"Gradient Boosting RMSE: {rmse:.6f}\")\n"
   ]
  }
 ],
 "metadata": {
  "kernelspec": {
   "display_name": "Python 3",
   "language": "python",
   "name": "python3"
  },
  "language_info": {
   "codemirror_mode": {
    "name": "ipython",
    "version": 3
   },
   "file_extension": ".py",
   "mimetype": "text/x-python",
   "name": "python",
   "nbconvert_exporter": "python",
   "pygments_lexer": "ipython3",
   "version": "3.9.6"
  }
 },
 "nbformat": 4,
 "nbformat_minor": 5
}
